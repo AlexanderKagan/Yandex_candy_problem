{
 "cells": [
  {
   "cell_type": "code",
   "execution_count": 9,
   "metadata": {},
   "outputs": [],
   "source": [
    "def greatest_common_divisor(a, b):\n",
    "    while b:\n",
    "        a, b = b, a % b\n",
    "    return a"
   ]
  },
  {
   "cell_type": "code",
   "execution_count": 23,
   "metadata": {},
   "outputs": [
    {
     "data": {
      "text/plain": [
       "(5, 1, 47)"
      ]
     },
     "execution_count": 23,
     "metadata": {},
     "output_type": "execute_result"
    }
   ],
   "source": [
    "### check\n",
    "greatest_common_divisor(10, 15), greatest_common_divisor(1, 13), greatest_common_divisor(47, 94)"
   ]
  },
  {
   "cell_type": "code",
   "execution_count": 32,
   "metadata": {},
   "outputs": [],
   "source": [
    "def tuple_greatest_common_divisor(integers_tuple):\n",
    "    assert len(integers_tuple) >= 2, 'Not enough elements in tuple'\n",
    "    gcd = integers_tuple[0]\n",
    "    for elem in integers_tuple[1:]:\n",
    "        gcd = greatest_common_divisor(elem, gcd)\n",
    "    return gcd"
   ]
  },
  {
   "cell_type": "code",
   "execution_count": 20,
   "metadata": {},
   "outputs": [
    {
     "data": {
      "text/plain": [
       "5"
      ]
     },
     "execution_count": 20,
     "metadata": {},
     "output_type": "execute_result"
    }
   ],
   "source": [
    "### check\n",
    "tuple_greatest_common_divisor((10, 45, 35, 100))"
   ]
  },
  {
   "cell_type": "code",
   "execution_count": 28,
   "metadata": {},
   "outputs": [],
   "source": [
    "### python collections Counter can be used also\n",
    "def find_occurence_of_each_unique_element_in_list(lst):\n",
    "    unique_elems = set(lst)\n",
    "    elements_2_occurence_num = {unique_elem: 0 for unique_elem in unique_elems}\n",
    "    for elem in lst:\n",
    "        elements_2_occurence_num[elem] += 1\n",
    "    return elements_2_occurence_num    "
   ]
  },
  {
   "cell_type": "code",
   "execution_count": 16,
   "metadata": {},
   "outputs": [
    {
     "data": {
      "text/plain": [
       "({'c': 2, 'b': 1, 'a': 3}, {})"
      ]
     },
     "execution_count": 16,
     "metadata": {},
     "output_type": "execute_result"
    }
   ],
   "source": [
    "### check\n",
    "find_number_of_each_unique_element_in_list(['a', 'b', 'a', 'a', 'c', 'c']), \\\n",
    "find_number_of_each_unique_element_in_list([])"
   ]
  },
  {
   "cell_type": "code",
   "execution_count": 45,
   "metadata": {},
   "outputs": [],
   "source": [
    "def find_max_friends_number(candy_list):\n",
    "    unique_candies_num = list(find_occurence_of_each_unique_element_in_list(candy_list).values())\n",
    "    return tuple_greatest_common_divisor(unique_candies_num) if len(unique_candies_num) > 1 \\\n",
    "                                                            else unique_candies_num[0]"
   ]
  },
  {
   "cell_type": "code",
   "execution_count": 54,
   "metadata": {},
   "outputs": [
    {
     "name": "stdout",
     "output_type": "stream",
     "text": [
      "2\n",
      "1\n"
     ]
    }
   ],
   "source": [
    "### TEST\n",
    "print(find_max_friends_number(['a', 'b', 'c', 'a', 'b', 'c', 'c', 'c']))\n",
    "print(find_max_friends_number(['a', 'a', 'a', 'b', 'b', 'b', 'b', 'c', 'c', 'c', 'c', 'c'] ))"
   ]
  },
  {
   "cell_type": "code",
   "execution_count": 47,
   "metadata": {},
   "outputs": [
    {
     "data": {
      "text/plain": [
       "3"
      ]
     },
     "execution_count": 47,
     "metadata": {},
     "output_type": "execute_result"
    }
   ],
   "source": [
    "find_max_friends_number( ['a', 'a', 'a'])"
   ]
  },
  {
   "cell_type": "code",
   "execution_count": 51,
   "metadata": {},
   "outputs": [
    {
     "data": {
      "text/plain": [
       "1"
      ]
     },
     "execution_count": 51,
     "metadata": {},
     "output_type": "execute_result"
    }
   ],
   "source": [
    "find_max_friends_number( ['a'])"
   ]
  }
 ],
 "metadata": {
  "kernelspec": {
   "display_name": "Python (venv)",
   "language": "python",
   "name": "venv"
  },
  "language_info": {
   "codemirror_mode": {
    "name": "ipython",
    "version": 3
   },
   "file_extension": ".py",
   "mimetype": "text/x-python",
   "name": "python",
   "nbconvert_exporter": "python",
   "pygments_lexer": "ipython3",
   "version": "3.7.0"
  }
 },
 "nbformat": 4,
 "nbformat_minor": 4
}
